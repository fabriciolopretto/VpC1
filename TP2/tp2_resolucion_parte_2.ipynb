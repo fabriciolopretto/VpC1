{
 "cells": [
  {
   "cell_type": "markdown",
   "metadata": {},
   "source": [
    "### TP 2: Visión por Computadora\n",
    "\n",
    "Alumnos: Fabricio Lopretto (a1616), Santiago José Olaciregui (a1611)\n",
    "\n",
    "Objetivo:\n",
    "Implementar un detector de máximo enfoque sobre un video aplicando técnicas de análisis espectral similar al que utilizan las cámaras digitales modernas. El video a procesar será: “focus_video.mov”."
   ]
  },
  {
   "cell_type": "markdown",
   "metadata": {},
   "source": [
    "2. Cambiar la métrica de enfoque eligiendo uno de los algoritmos explicados en el apéndice de: \"Analysis of focus measure operators in shape from focus\".\n",
    "\n",
    "El algoritmo de detección a implementar debe detectar y devolver los puntos de máximo enfoque de manera automática."
   ]
  },
  {
   "cell_type": "markdown",
   "metadata": {},
   "source": [
    "El agoritmo elegido es el *Image Contrast.*\n",
    "\n",
    "Se realiza en dos pasos, el primero calcula el contraste para cada píxel de la imagen realizando la sumatoria de la diferencia absoluta entre la intensidad del píxel en cuestión y sus vecinos en la matriz de enfoque de 3x3 centrada en el píxel en estudio."
   ]
  },
  {
   "cell_type": "markdown",
   "metadata": {},
   "source": [
    "$$\n",
    "C(x, y) = \\sum_{i=x-1}^{x+1} \\sum_{j=y-1}^{y+1} |I_{xy} - I_{ij}|\n",
    "$$"
   ]
  },
  {
   "cell_type": "markdown",
   "metadata": {},
   "source": [
    "Luego, para cada píxel, calcula la métrica (Phi en la fórmula), realizando la sumatoria de los contrastes de los píxeles vecinos."
   ]
  },
  {
   "cell_type": "markdown",
   "metadata": {},
   "source": [
    "$$\n",
    "Phi(x, y) = \\sum_{(i, j)=vencindario} C(i, j)\n",
    "$$"
   ]
  },
  {
   "cell_type": "code",
   "execution_count": 13,
   "metadata": {},
   "outputs": [
    {
     "name": "stdout",
     "output_type": "stream",
     "text": [
      "Requirement already satisfied: opencv-python in c:\\users\\fabri\\appdata\\local\\programs\\python\\python311\\lib\\site-packages (4.10.0.84)\n",
      "Requirement already satisfied: numpy>=1.21.2 in c:\\users\\fabri\\appdata\\local\\programs\\python\\python311\\lib\\site-packages (from opencv-python) (1.26.2)\n"
     ]
    },
    {
     "name": "stderr",
     "output_type": "stream",
     "text": [
      "\n",
      "[notice] A new release of pip is available: 24.1 -> 24.2\n",
      "[notice] To update, run: python.exe -m pip install --upgrade pip\n"
     ]
    }
   ],
   "source": [
    "# Instala las librerias necesarias\n",
    "!pip install opencv-python"
   ]
  },
  {
   "cell_type": "code",
   "execution_count": 14,
   "metadata": {},
   "outputs": [],
   "source": [
    "# Importa las librerias necesarias\n",
    "import cv2\n",
    "import numpy as np\n",
    "import matplotlib.pyplot as plt\n",
    "import os"
   ]
  },
  {
   "cell_type": "code",
   "execution_count": 15,
   "metadata": {},
   "outputs": [],
   "source": [
    "# Capta la ruta de la notebook\n",
    "ruta_notebook = os.getcwd()\n",
    "\n",
    "# Describe la ruta al video\n",
    "video_path = ruta_notebook + '/focus_video.mov'"
   ]
  },
  {
   "cell_type": "markdown",
   "metadata": {},
   "source": [
    "El siguiente script permite ubicar en cada frame la ubicación del píxel donde la métrica es máxima. almacena para todo frame la posición del píxel y el valor máximo de la métrica en el mismo. Además imprime esta información por pantalla."
   ]
  },
  {
   "cell_type": "code",
   "execution_count": 16,
   "metadata": {},
   "outputs": [
    {
     "name": "stdout",
     "output_type": "stream",
     "text": [
      "Frame 0: Máxima Phi en la ubicación (116, 405) con valor 1107.0\n",
      "Frame 1: Máxima Phi en la ubicación (115, 405) con valor 1130.0\n",
      "Frame 2: Máxima Phi en la ubicación (114, 405) con valor 1127.0\n",
      "Frame 3: Máxima Phi en la ubicación (113, 405) con valor 1127.0\n",
      "Frame 4: Máxima Phi en la ubicación (112, 405) con valor 1157.0\n",
      "Frame 5: Máxima Phi en la ubicación (112, 407) con valor 1147.0\n",
      "Frame 6: Máxima Phi en la ubicación (111, 407) con valor 1161.0\n",
      "Frame 7: Máxima Phi en la ubicación (110, 407) con valor 1151.0\n",
      "Frame 8: Máxima Phi en la ubicación (109, 407) con valor 1194.0\n",
      "Frame 9: Máxima Phi en la ubicación (108, 406) con valor 1193.0\n",
      "Frame 10: Máxima Phi en la ubicación (108, 407) con valor 1193.0\n",
      "Frame 11: Máxima Phi en la ubicación (109, 409) con valor 1099.0\n",
      "Frame 12: Máxima Phi en la ubicación (107, 407) con valor 1184.0\n",
      "Frame 13: Máxima Phi en la ubicación (108, 409) con valor 1121.0\n",
      "Frame 14: Máxima Phi en la ubicación (108, 410) con valor 1164.0\n",
      "Frame 15: Máxima Phi en la ubicación (108, 410) con valor 1106.0\n",
      "Frame 16: Máxima Phi en la ubicación (108, 411) con valor 1154.0\n",
      "Frame 17: Máxima Phi en la ubicación (107, 410) con valor 1155.0\n",
      "Frame 18: Máxima Phi en la ubicación (107, 410) con valor 1164.0\n",
      "Frame 19: Máxima Phi en la ubicación (107, 409) con valor 1103.0\n",
      "Frame 20: Máxima Phi en la ubicación (107, 409) con valor 1103.0\n",
      "Frame 21: Máxima Phi en la ubicación (108, 411) con valor 1186.0\n",
      "Frame 22: Máxima Phi en la ubicación (108, 410) con valor 1210.0\n",
      "Frame 23: Máxima Phi en la ubicación (109, 411) con valor 1187.0\n",
      "Frame 24: Máxima Phi en la ubicación (109, 410) con valor 1208.0\n",
      "Frame 25: Máxima Phi en la ubicación (109, 410) con valor 1187.0\n",
      "Frame 26: Máxima Phi en la ubicación (110, 410) con valor 1199.0\n",
      "Frame 27: Máxima Phi en la ubicación (111, 411) con valor 1224.0\n",
      "Frame 28: Máxima Phi en la ubicación (111, 411) con valor 1288.0\n",
      "Frame 29: Máxima Phi en la ubicación (111, 411) con valor 1268.0\n",
      "Frame 30: Máxima Phi en la ubicación (111, 411) con valor 1311.0\n",
      "Frame 31: Máxima Phi en la ubicación (112, 412) con valor 1346.0\n",
      "Frame 32: Máxima Phi en la ubicación (112, 412) con valor 1356.0\n",
      "Frame 33: Máxima Phi en la ubicación (113, 412) con valor 1369.0\n",
      "Frame 34: Máxima Phi en la ubicación (114, 412) con valor 1392.0\n",
      "Frame 35: Máxima Phi en la ubicación (115, 411) con valor 1485.0\n",
      "Frame 36: Máxima Phi en la ubicación (115, 410) con valor 1635.0\n",
      "Frame 37: Máxima Phi en la ubicación (115, 410) con valor 1732.0\n",
      "Frame 38: Máxima Phi en la ubicación (115, 410) con valor 1811.0\n",
      "Frame 39: Máxima Phi en la ubicación (115, 409) con valor 1823.0\n",
      "Frame 40: Máxima Phi en la ubicación (116, 409) con valor 1915.0\n",
      "Frame 41: Máxima Phi en la ubicación (115, 409) con valor 2018.0\n",
      "Frame 42: Máxima Phi en la ubicación (116, 410) con valor 2197.0\n",
      "Frame 43: Máxima Phi en la ubicación (116, 410) con valor 2261.0\n",
      "Frame 44: Máxima Phi en la ubicación (115, 410) con valor 2369.0\n",
      "Frame 45: Máxima Phi en la ubicación (115, 410) con valor 2516.0\n",
      "Frame 46: Máxima Phi en la ubicación (114, 410) con valor 2551.0\n",
      "Frame 47: Máxima Phi en la ubicación (116, 411) con valor 2574.0\n",
      "Frame 48: Máxima Phi en la ubicación (114, 410) con valor 2723.0\n",
      "Frame 49: Máxima Phi en la ubicación (115, 411) con valor 2961.0\n",
      "Frame 50: Máxima Phi en la ubicación (115, 411) con valor 3077.0\n",
      "Frame 51: Máxima Phi en la ubicación (115, 411) con valor 3220.0\n",
      "Frame 52: Máxima Phi en la ubicación (114, 410) con valor 3379.0\n",
      "Frame 53: Máxima Phi en la ubicación (114, 410) con valor 3405.0\n",
      "Frame 54: Máxima Phi en la ubicación (114, 409) con valor 3608.0\n",
      "Frame 55: Máxima Phi en la ubicación (114, 410) con valor 3702.0\n",
      "Frame 56: Máxima Phi en la ubicación (114, 410) con valor 3879.0\n",
      "Frame 57: Máxima Phi en la ubicación (113, 409) con valor 3959.0\n",
      "Frame 58: Máxima Phi en la ubicación (112, 410) con valor 4171.0\n",
      "Frame 59: Máxima Phi en la ubicación (111, 407) con valor 4250.0\n",
      "Frame 60: Máxima Phi en la ubicación (111, 408) con valor 4341.0\n",
      "Frame 61: Máxima Phi en la ubicación (110, 409) con valor 4279.0\n",
      "Frame 62: Máxima Phi en la ubicación (110, 407) con valor 4369.0\n",
      "Frame 63: Máxima Phi en la ubicación (109, 408) con valor 4220.0\n",
      "Frame 64: Máxima Phi en la ubicación (109, 406) con valor 4458.0\n",
      "Frame 65: Máxima Phi en la ubicación (109, 406) con valor 4527.0\n",
      "Frame 66: Máxima Phi en la ubicación (107, 407) con valor 4613.0\n",
      "Frame 67: Máxima Phi en la ubicación (107, 407) con valor 4751.0\n",
      "Frame 68: Máxima Phi en la ubicación (107, 407) con valor 4800.0\n",
      "Frame 69: Máxima Phi en la ubicación (108, 406) con valor 4911.0\n",
      "Frame 70: Máxima Phi en la ubicación (108, 406) con valor 5175.0\n",
      "Frame 71: Máxima Phi en la ubicación (108, 406) con valor 5296.0\n",
      "Frame 72: Máxima Phi en la ubicación (108, 406) con valor 5409.0\n",
      "Frame 73: Máxima Phi en la ubicación (108, 406) con valor 5402.0\n",
      "Frame 74: Máxima Phi en la ubicación (108, 406) con valor 5476.0\n",
      "Frame 75: Máxima Phi en la ubicación (108, 407) con valor 5249.0\n",
      "Frame 76: Máxima Phi en la ubicación (108, 406) con valor 5527.0\n",
      "Frame 77: Máxima Phi en la ubicación (108, 406) con valor 5433.0\n",
      "Frame 78: Máxima Phi en la ubicación (108, 407) con valor 5390.0\n",
      "Frame 79: Máxima Phi en la ubicación (109, 407) con valor 5284.0\n",
      "Frame 80: Máxima Phi en la ubicación (109, 407) con valor 5528.0\n",
      "Frame 81: Máxima Phi en la ubicación (110, 407) con valor 5403.0\n",
      "Frame 82: Máxima Phi en la ubicación (110, 407) con valor 5391.0\n",
      "Frame 83: Máxima Phi en la ubicación (110, 408) con valor 5367.0\n",
      "Frame 84: Máxima Phi en la ubicación (111, 409) con valor 5469.0\n",
      "Frame 85: Máxima Phi en la ubicación (111, 409) con valor 5625.0\n",
      "Frame 86: Máxima Phi en la ubicación (112, 409) con valor 5457.0\n",
      "Frame 87: Máxima Phi en la ubicación (112, 410) con valor 5535.0\n",
      "Frame 88: Máxima Phi en la ubicación (112, 410) con valor 5572.0\n",
      "Frame 89: Máxima Phi en la ubicación (112, 411) con valor 5617.0\n",
      "Frame 90: Máxima Phi en la ubicación (112, 411) con valor 5808.0\n",
      "Frame 91: Máxima Phi en la ubicación (112, 412) con valor 5748.0\n",
      "Frame 92: Máxima Phi en la ubicación (112, 412) con valor 5639.0\n",
      "Frame 93: Máxima Phi en la ubicación (113, 412) con valor 5666.0\n",
      "Frame 94: Máxima Phi en la ubicación (113, 412) con valor 5752.0\n",
      "Frame 95: Máxima Phi en la ubicación (113, 413) con valor 5641.0\n",
      "Frame 96: Máxima Phi en la ubicación (114, 413) con valor 5671.0\n",
      "Frame 97: Máxima Phi en la ubicación (115, 413) con valor 5539.0\n",
      "Frame 98: Máxima Phi en la ubicación (115, 414) con valor 5586.0\n",
      "Frame 99: Máxima Phi en la ubicación (115, 414) con valor 5581.0\n",
      "Frame 100: Máxima Phi en la ubicación (116, 414) con valor 5685.0\n",
      "Frame 101: Máxima Phi en la ubicación (117, 414) con valor 5563.0\n",
      "Frame 102: Máxima Phi en la ubicación (118, 414) con valor 5464.0\n",
      "Frame 103: Máxima Phi en la ubicación (119, 413) con valor 5586.0\n",
      "Frame 104: Máxima Phi en la ubicación (120, 412) con valor 5371.0\n",
      "Frame 105: Máxima Phi en la ubicación (120, 410) con valor 5442.0\n",
      "Frame 106: Máxima Phi en la ubicación (109, 349) con valor 5366.0\n",
      "Frame 107: Máxima Phi en la ubicación (121, 406) con valor 5427.0\n",
      "Frame 108: Máxima Phi en la ubicación (121, 404) con valor 5642.0\n",
      "Frame 109: Máxima Phi en la ubicación (121, 403) con valor 5735.0\n",
      "Frame 110: Máxima Phi en la ubicación (121, 403) con valor 5760.0\n",
      "Frame 111: Máxima Phi en la ubicación (122, 403) con valor 5511.0\n",
      "Frame 112: Máxima Phi en la ubicación (122, 403) con valor 5753.0\n",
      "Frame 113: Máxima Phi en la ubicación (123, 403) con valor 5668.0\n",
      "Frame 114: Máxima Phi en la ubicación (123, 403) con valor 5436.0\n",
      "Frame 115: Máxima Phi en la ubicación (123, 404) con valor 5460.0\n",
      "Frame 116: Máxima Phi en la ubicación (123, 405) con valor 5289.0\n",
      "Frame 117: Máxima Phi en la ubicación (122, 405) con valor 5425.0\n",
      "Frame 118: Máxima Phi en la ubicación (122, 406) con valor 5001.0\n",
      "Frame 119: Máxima Phi en la ubicación (123, 406) con valor 4658.0\n",
      "Frame 120: Máxima Phi en la ubicación (122, 408) con valor 4417.0\n",
      "Frame 121: Máxima Phi en la ubicación (119, 409) con valor 4348.0\n",
      "Frame 122: Máxima Phi en la ubicación (119, 410) con valor 4294.0\n",
      "Frame 123: Máxima Phi en la ubicación (123, 410) con valor 4196.0\n",
      "Frame 124: Máxima Phi en la ubicación (123, 410) con valor 3999.0\n",
      "Frame 125: Máxima Phi en la ubicación (121, 408) con valor 3814.0\n",
      "Frame 126: Máxima Phi en la ubicación (121, 408) con valor 3683.0\n",
      "Frame 127: Máxima Phi en la ubicación (121, 408) con valor 3554.0\n",
      "Frame 128: Máxima Phi en la ubicación (119, 408) con valor 3380.0\n",
      "Frame 129: Máxima Phi en la ubicación (119, 408) con valor 3263.0\n",
      "Frame 130: Máxima Phi en la ubicación (119, 408) con valor 3102.0\n",
      "Frame 131: Máxima Phi en la ubicación (119, 408) con valor 2991.0\n",
      "Frame 132: Máxima Phi en la ubicación (119, 409) con valor 2855.0\n",
      "Frame 133: Máxima Phi en la ubicación (119, 410) con valor 2601.0\n",
      "Frame 134: Máxima Phi en la ubicación (119, 410) con valor 2426.0\n",
      "Frame 135: Máxima Phi en la ubicación (118, 409) con valor 2243.0\n",
      "Frame 136: Máxima Phi en la ubicación (118, 409) con valor 2144.0\n",
      "Frame 137: Máxima Phi en la ubicación (118, 409) con valor 1937.0\n",
      "Frame 138: Máxima Phi en la ubicación (118, 409) con valor 1899.0\n",
      "Frame 139: Máxima Phi en la ubicación (118, 409) con valor 1816.0\n",
      "Frame 140: Máxima Phi en la ubicación (118, 409) con valor 1708.0\n",
      "Frame 141: Máxima Phi en la ubicación (118, 408) con valor 1600.0\n",
      "Frame 142: Máxima Phi en la ubicación (357, 581) con valor 1655.0\n",
      "Frame 143: Máxima Phi en la ubicación (357, 581) con valor 1810.0\n",
      "Frame 144: Máxima Phi en la ubicación (357, 581) con valor 1614.0\n",
      "Frame 145: Máxima Phi en la ubicación (119, 408) con valor 1309.0\n",
      "Frame 146: Máxima Phi en la ubicación (119, 408) con valor 1269.0\n",
      "Frame 147: Máxima Phi en la ubicación (119, 407) con valor 1204.0\n",
      "Frame 148: Máxima Phi en la ubicación (119, 407) con valor 1151.0\n",
      "Frame 149: Máxima Phi en la ubicación (119, 408) con valor 1067.0\n",
      "Frame 150: Máxima Phi en la ubicación (120, 409) con valor 989.0\n",
      "Frame 151: Máxima Phi en la ubicación (124, 415) con valor 998.0\n",
      "Frame 152: Máxima Phi en la ubicación (124, 415) con valor 971.0\n",
      "Frame 153: Máxima Phi en la ubicación (125, 417) con valor 994.0\n",
      "Frame 154: Máxima Phi en la ubicación (125, 415) con valor 931.0\n",
      "Frame 155: Máxima Phi en la ubicación (110, 410) con valor 874.0\n",
      "Frame 156: Máxima Phi en la ubicación (109, 409) con valor 1038.0\n",
      "Frame 157: Máxima Phi en la ubicación (108, 408) con valor 978.0\n",
      "Frame 158: Máxima Phi en la ubicación (108, 406) con valor 1018.0\n",
      "Frame 159: Máxima Phi en la ubicación (107, 406) con valor 1028.0\n",
      "Frame 160: Máxima Phi en la ubicación (107, 405) con valor 969.0\n",
      "Frame 161: Máxima Phi en la ubicación (120, 400) con valor 990.0\n",
      "Frame 162: Máxima Phi en la ubicación (121, 399) con valor 921.0\n",
      "Frame 163: Máxima Phi en la ubicación (120, 397) con valor 936.0\n",
      "Frame 164: Máxima Phi en la ubicación (347, 583) con valor 1397.0\n",
      "Frame 165: Máxima Phi en la ubicación (347, 583) con valor 2205.0\n",
      "Frame 166: Máxima Phi en la ubicación (345, 584) con valor 2256.0\n",
      "Frame 167: Máxima Phi en la ubicación (344, 584) con valor 2212.0\n",
      "Frame 168: Máxima Phi en la ubicación (345, 580) con valor 2209.0\n",
      "Frame 169: Máxima Phi en la ubicación (345, 580) con valor 2397.0\n",
      "Frame 170: Máxima Phi en la ubicación (345, 579) con valor 2400.0\n"
     ]
    }
   ],
   "source": [
    "# Abre el video\n",
    "cap = cv2.VideoCapture(video_path)\n",
    "\n",
    "# Verifica si se abrio correctamente\n",
    "if not cap.isOpened():\n",
    "    print(\"Error al abrir el archivo de video.\")\n",
    "\n",
    "# Obtiene el numero de frames totales\n",
    "total_frames = int(cap.get(cv2.CAP_PROP_FRAME_COUNT))\n",
    "\n",
    "# Define el tamano del vecindario para Phi (aqui se usa 3x3)\n",
    "vecindario_size = 3\n",
    "offset = vecindario_size // 2\n",
    "\n",
    "# Inicializa la matriz de 3 dimensiones para almacenar la posicion maxima de Phi\n",
    "# Cada entrada en la matriz sera (frame_num, [x, y])\n",
    "max_phi_positions = np.zeros((total_frames, 2), dtype=int)\n",
    "\n",
    "# Procesa cada frame\n",
    "frame_num = 0\n",
    "while cap.isOpened():\n",
    "    ret, frame = cap.read()\n",
    "    if not ret:\n",
    "        break\n",
    "    \n",
    "    # Convierte a escala de grises\n",
    "    gray_frame = cv2.cvtColor(frame, cv2.COLOR_BGR2GRAY)\n",
    "    alto, ancho = gray_frame.shape\n",
    "\n",
    "    # Inicializa los valores de contraste local y global\n",
    "    contraste_local = np.zeros_like(gray_frame, dtype=np.float32)\n",
    "    phi = np.zeros_like(gray_frame, dtype=np.float32)\n",
    "\n",
    "    # Calcula el contraste local C(x, y)\n",
    "    for x in range(1, alto-1):\n",
    "        for y in range(1, ancho-1):\n",
    "            suma_contraste = 0\n",
    "            for i in range(x-1, x+2):\n",
    "                for j in range(y-1, y+2):\n",
    "                    suma_contraste += abs(int(gray_frame[x, y]) - int(gray_frame[i, j]))\n",
    "            contraste_local[x, y] = suma_contraste\n",
    "\n",
    "    # Calcula la metrica Phi(x, y) en funcion del vecindario\n",
    "    for x in range(offset, alto-offset):\n",
    "        for y in range(offset, ancho-offset):\n",
    "            phi[x, y] = np.sum(contraste_local[x-offset:x+offset+1, y-offset:y+offset+1])\n",
    "\n",
    "    # Encuentra el valor maximo de Phi y su ubicacion\n",
    "    max_phi_value = np.max(phi)\n",
    "    max_phi_location = np.unravel_index(np.argmax(phi), phi.shape)\n",
    "\n",
    "    # Guarda la ubicacion del pixel en la matriz tridimensional\n",
    "    max_phi_positions[frame_num] = max_phi_location\n",
    "\n",
    "    # Imprime la ubicacion del pixel donde Phi es maximo\n",
    "    print(f\"Frame {frame_num}: Máxima Phi en la ubicación {max_phi_location} con valor {max_phi_value}\")\n",
    "    \n",
    "    frame_num += 1\n",
    "\n",
    "# Libera el video\n",
    "cap.release()"
   ]
  },
  {
   "cell_type": "markdown",
   "metadata": {},
   "source": [
    "El siguiente script usa la matriz donde se guarda la posición del máximo de nitidez por frame, y se la utiliza para plasmar la ubicación con un punto verde de estos en el video:"
   ]
  },
  {
   "cell_type": "code",
   "execution_count": 12,
   "metadata": {},
   "outputs": [
    {
     "name": "stdout",
     "output_type": "stream",
     "text": [
      "Nuevo video generado y guardado en c:\\Users\\fabri\\Documents\\Posgrado\\VpC1\\entregables\\TP2/output_video_with_max_phi.mp4\n"
     ]
    }
   ],
   "source": [
    "# Abre el video\n",
    "cap = cv2.VideoCapture(video_path)\n",
    "\n",
    "# Verifica si se abrio correctamente\n",
    "if not cap.isOpened():\n",
    "    print(\"Error al abrir el archivo de video.\")\n",
    "\n",
    "# Obtiene propiedades del video original\n",
    "fps = cap.get(cv2.CAP_PROP_FPS)\n",
    "frame_width = int(cap.get(cv2.CAP_PROP_FRAME_WIDTH))\n",
    "frame_height = int(cap.get(cv2.CAP_PROP_FRAME_HEIGHT))\n",
    "\n",
    "# Crea un objeto VideoWriter para el nuevo video\n",
    "output_path = ruta_notebook + '/output_video_with_max_phi.mp4'\n",
    "fourcc = cv2.VideoWriter_fourcc(*'mp4v')  # Codificación para MP4\n",
    "out = cv2.VideoWriter(output_path, fourcc, fps, (frame_width, frame_height))\n",
    "\n",
    "# Procesa el video frame por frame\n",
    "frame_num = 0\n",
    "while cap.isOpened():\n",
    "    ret, frame = cap.read()\n",
    "    if not ret:\n",
    "        break\n",
    "    \n",
    "    # Obtiene la posicion maxima de Phi para el frame actual\n",
    "    max_position = max_phi_positions[frame_num]\n",
    "    \n",
    "    # Dibuja un punto verde en la posicion maxima de Phi\n",
    "    cv2.circle(frame, (max_position[1], max_position[0]), radius=5, color=(0, 255, 0), thickness=-1)\n",
    "    \n",
    "    # Escribe el frame modificado en el nuevo video\n",
    "    out.write(frame)\n",
    "    \n",
    "    frame_num += 1\n",
    "\n",
    "# Libera los recursos\n",
    "cap.release()\n",
    "out.release()\n",
    "\n",
    "# Da aviso de la creacion del video\n",
    "print(f\"Nuevo video generado y guardado en {output_path}\")"
   ]
  },
  {
   "cell_type": "markdown",
   "metadata": {},
   "source": [
    "### Conclusiones:"
   ]
  },
  {
   "cell_type": "markdown",
   "metadata": {},
   "source": [
    "A partir de la impresión por pantalla de la ubicación del píxel con el máximo valor de la métrica por frame, se ve que la ubicación permanece aproximadamente estable en gran parte del video, para luego migrar a la parte inferior derecha cerca del borde. Esto tiene sentido ddo que al ver el video hay un desfasaje entre la puesta en foco del centro de la imagen y los bordes."
   ]
  },
  {
   "cell_type": "markdown",
   "metadata": {},
   "source": [
    "#### Bibliografia"
   ]
  },
  {
   "cell_type": "markdown",
   "metadata": {},
   "source": [
    "S. Pertuz and D. Puig. 2012. Analysis of focus measure operators in shapefrom-focus. DOI: 10.1016/j.patcog.2012.11.011"
   ]
  }
 ],
 "metadata": {
  "kernelspec": {
   "display_name": "Python 3",
   "language": "python",
   "name": "python3"
  },
  "language_info": {
   "codemirror_mode": {
    "name": "ipython",
    "version": 3
   },
   "file_extension": ".py",
   "mimetype": "text/x-python",
   "name": "python",
   "nbconvert_exporter": "python",
   "pygments_lexer": "ipython3",
   "version": "3.11.5"
  }
 },
 "nbformat": 4,
 "nbformat_minor": 2
}
