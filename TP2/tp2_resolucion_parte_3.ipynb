{
 "cells": [
  {
   "cell_type": "markdown",
   "metadata": {},
   "source": [
    "### TP 2: Visión por Computadora\n",
    "\n",
    "Alumnos: Fabricio Lopretto (a1616), Santiago José Olaciregui (a1611)\n",
    "\n",
    "Objetivo:\n",
    "Implementar un detector de máximo enfoque sobre un video aplicando técnicas de análisis espectral similar al que utilizan las cámaras digitales modernas. El video a procesar será: “focus_video.mov”."
   ]
  },
  {
   "cell_type": "markdown",
   "metadata": {},
   "source": [
    "3 - Aplicar unsharp masking para expandir la zona de enfoque y devolver."
   ]
  },
  {
   "cell_type": "code",
   "execution_count": 1,
   "metadata": {},
   "outputs": [
    {
     "name": "stdout",
     "output_type": "stream",
     "text": [
      "Requirement already satisfied: opencv-python in c:\\users\\fabri\\appdata\\local\\programs\\python\\python311\\lib\\site-packages (4.10.0.84)\n",
      "Requirement already satisfied: numpy>=1.21.2 in c:\\users\\fabri\\appdata\\local\\programs\\python\\python311\\lib\\site-packages (from opencv-python) (1.26.2)\n"
     ]
    },
    {
     "name": "stderr",
     "output_type": "stream",
     "text": [
      "\n",
      "[notice] A new release of pip is available: 24.1 -> 24.2\n",
      "[notice] To update, run: python.exe -m pip install --upgrade pip\n"
     ]
    }
   ],
   "source": [
    "# Instala las librerias necesarias\n",
    "!pip install opencv-python"
   ]
  },
  {
   "cell_type": "code",
   "execution_count": 2,
   "metadata": {},
   "outputs": [],
   "source": [
    "# Importa las librerias necesarias\n",
    "import cv2\n",
    "import numpy as np\n",
    "import matplotlib.pyplot as plt\n",
    "import os"
   ]
  },
  {
   "cell_type": "code",
   "execution_count": 3,
   "metadata": {},
   "outputs": [],
   "source": [
    "# Capta la ruta de la notebook\n",
    "ruta_notebook = os.getcwd()\n",
    "\n",
    "# Describe la ruta al video\n",
    "video_path = ruta_notebook + '/focus_video.mov'"
   ]
  },
  {
   "cell_type": "code",
   "execution_count": 7,
   "metadata": {},
   "outputs": [
    {
     "name": "stdout",
     "output_type": "stream",
     "text": [
      "Nuevo video generado y guardado en c:\\Users\\fabri\\Documents\\Posgrado\\VpC1\\entregables\\TP2/output_video_sharpened.mp4\n"
     ]
    }
   ],
   "source": [
    "# Abre el video\n",
    "cap = cv2.VideoCapture(video_path)\n",
    "\n",
    "# Verifica si se abrio correctamente\n",
    "if not cap.isOpened():\n",
    "    print(\"Error al abrir el archivo de video.\")\n",
    "\n",
    "# Obtiene propiedades del video original\n",
    "fps = cap.get(cv2.CAP_PROP_FPS)\n",
    "frame_width = int(cap.get(cv2.CAP_PROP_FRAME_WIDTH))\n",
    "frame_height = int(cap.get(cv2.CAP_PROP_FRAME_HEIGHT))\n",
    "\n",
    "# Crea un objeto VideoWriter para el nuevo video\n",
    "output_path = ruta_notebook + '/output_video_sharpened.mp4'\n",
    "fourcc = cv2.VideoWriter_fourcc(*'mp4v')\n",
    "out = cv2.VideoWriter(output_path, fourcc, fps, (frame_width, frame_height))\n",
    "\n",
    "# Define el factor de escala para unsharp masking\n",
    "alpha = 5.0\n",
    "\n",
    "# Procesa el video frame por frame\n",
    "while cap.isOpened():\n",
    "    ret, frame = cap.read()\n",
    "    if not ret:\n",
    "        break\n",
    "    \n",
    "    # Crea la imagen borrosa usando un filtro Gaussiano\n",
    "    blurred = cv2.GaussianBlur(frame, (5, 5), 0)\n",
    "    \n",
    "    # Realiza el unsharp masking\n",
    "    sharpened = cv2.addWeighted(frame, 1.0 + alpha, blurred, -alpha, 0)\n",
    "    \n",
    "    # Escribe el frame modificado en el nuevo video\n",
    "    out.write(sharpened)\n",
    "\n",
    "# Libera los recursos\n",
    "cap.release()\n",
    "out.release()\n",
    "\n",
    "# Avisa que el video fue creado\n",
    "print(f\"Nuevo video generado y guardado en {output_path}\")"
   ]
  },
  {
   "cell_type": "markdown",
   "metadata": {},
   "source": [
    "### Conclusiones\n",
    "\n",
    "El algoritmo funcionó correctamente, filtrando las mayores frecuencias. Se probó con diferentes valores de alpha hasta alcanzar el mostrado (5.0), a partir del cual los cambios con respecto al original son fáciles de apreciar."
   ]
  }
 ],
 "metadata": {
  "kernelspec": {
   "display_name": "Python 3",
   "language": "python",
   "name": "python3"
  },
  "language_info": {
   "codemirror_mode": {
    "name": "ipython",
    "version": 3
   },
   "file_extension": ".py",
   "mimetype": "text/x-python",
   "name": "python",
   "nbconvert_exporter": "python",
   "pygments_lexer": "ipython3",
   "version": "3.11.5"
  }
 },
 "nbformat": 4,
 "nbformat_minor": 2
}
